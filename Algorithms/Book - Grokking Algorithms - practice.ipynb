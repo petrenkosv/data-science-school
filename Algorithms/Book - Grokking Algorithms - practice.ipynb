{
 "cells": [
  {
   "cell_type": "markdown",
   "metadata": {},
   "source": [
    "#### Грокаем Алгоритмы\n",
    "\n",
    "Книга"
   ]
  },
  {
   "cell_type": "markdown",
   "metadata": {},
   "source": [
    "##### Знакомство с алгоритмами"
   ]
  },
  {
   "cell_type": "code",
   "execution_count": 4,
   "metadata": {
    "hide_input": false
   },
   "outputs": [
    {
     "name": "stdout",
     "output_type": "stream",
     "text": [
      "1\n",
      "None\n"
     ]
    }
   ],
   "source": [
    "# Бинарный поиск\n",
    "\n",
    "# Создадим функцию бинарного поиска\n",
    "def binary_search(list, item):\n",
    "    low = 0\n",
    "    high = len(list) - 1\n",
    "    \n",
    "    while low <=high:\n",
    "        mid = (low + high)//2\n",
    "        guess = list[mid]\n",
    "        \n",
    "        if guess == item:\n",
    "            return mid\n",
    "        \n",
    "        elif guess > item:\n",
    "            high = mid -1\n",
    "        \n",
    "        else:\n",
    "            low = mid + 1\n",
    "    return None\n",
    "\n",
    "my_list = [1, 3, 5, 7, 9]\n",
    "\n",
    "print(binary_search(my_list, 3))\n",
    "print(binary_search(my_list, -1))"
   ]
  },
  {
   "cell_type": "markdown",
   "metadata": {},
   "source": [
    "##### Упражнения\n",
    "\n",
    "* 1.1: 7\n",
    "* 1.2: 8"
   ]
  },
  {
   "cell_type": "code",
   "execution_count": 34,
   "metadata": {},
   "outputs": [
    {
     "name": "stdout",
     "output_type": "stream",
     "text": [
      "При линейном поиске, время нахождения одного элемента составит до 1000000000 мс или 1000000 секунд.\n",
      "При бинарном поиске, время нахождения одного элемента составит до 30 мс или 0 секунд.\n",
      "Бинарный поиск быстрее линейного примерно в 33 млн. раз.\n"
     ]
    }
   ],
   "source": [
    "import numpy\n",
    "\n",
    "num = 10**9 # Number of elements in list.\n",
    "\n",
    "ls = int(num) # Linear Search: number of tries.\n",
    "\n",
    "bs = int(round(numpy.log2(ls))) # Binary Search: number of tries.\n",
    "\n",
    "print(f\"При линейном поиске, время нахождения одного элемента составит до {ls} мс или {int(ls/1000)} секунд.\")\n",
    "print(f\"При бинарном поиске, время нахождения одного элемента составит до {bs} мс или {int(bs/1000)} секунд.\")\n",
    "print(f\"Бинарный поиск быстрее линейного примерно в {int(round(ls/bs)/(10**6))} млн. раз.\")\n"
   ]
  },
  {
   "cell_type": "markdown",
   "metadata": {},
   "source": [
    "##### Сортировка выбором"
   ]
  },
  {
   "cell_type": "code",
   "execution_count": 33,
   "metadata": {},
   "outputs": [
    {
     "name": "stdout",
     "output_type": "stream",
     "text": [
      "[5, 3, 6, 2, 10]\n",
      "[5, 3, 6, 10]\n",
      "[5, 6, 10]\n",
      "[6, 10]\n",
      "[10]\n",
      "[2, 3, 5, 6, 10]\n"
     ]
    }
   ],
   "source": [
    "def findSmallest(arr):\n",
    "    smallest = arr[0]\n",
    "    smallest_index = 0\n",
    "    \n",
    "    for i in range(1, len(arr)):\n",
    "        if arr[i] < smallest:\n",
    "            smallest = arr[i]\n",
    "            smallest_index = i\n",
    "            \n",
    "    return smallest_index\n",
    "\n",
    "def selectionSort(arr):\n",
    "    newArr = []\n",
    "    for i in range(len(arr)):\n",
    "        print(arr)\n",
    "        smallest = findSmallest(arr)\n",
    "        newArr.append(arr.pop(smallest)) # pop() return value and remove it from the list\n",
    "    return newArr\n",
    "\n",
    "print(selectionSort([5,3,6,2,10]))"
   ]
  },
  {
   "cell_type": "markdown",
   "metadata": {},
   "source": [
    "##### Рекурсия"
   ]
  },
  {
   "cell_type": "code",
   "execution_count": null,
   "metadata": {},
   "outputs": [],
   "source": [
    "# Вариант 1 - Псевдокод через While\n",
    "\n",
    "def look_for_key(main_box):\n",
    "    pile = main_box.make_a_pile_to_look_through()\n",
    "    \n",
    "    while pile is not empty:\n",
    "        box = pile.grab_a_box()\n",
    "        for item in box:\n",
    "            if item.is_a_box():\n",
    "                pile.append(item)\n",
    "            elif item.is_a_key():\n",
    "                print(\"found the key!\")"
   ]
  },
  {
   "cell_type": "code",
   "execution_count": null,
   "metadata": {},
   "outputs": [],
   "source": [
    "# Вариант 2 - Псевдокод через рекурсию\n",
    "\n",
    "def look_for_key(box):\n",
    "    for item in box:\n",
    "        if item.is_a_box():\n",
    "            look_for_key(item)\n",
    "        elif item.is_a_key():\n",
    "            print(\"found the key!\")"
   ]
  },
  {
   "cell_type": "code",
   "execution_count": 2,
   "metadata": {
    "scrolled": true
   },
   "outputs": [
    {
     "name": "stdout",
     "output_type": "stream",
     "text": [
      "10\n",
      "9\n",
      "8\n",
      "7\n",
      "6\n",
      "5\n",
      "4\n",
      "3\n",
      "2\n",
      "1\n"
     ]
    }
   ],
   "source": [
    "# Countdown\n",
    "\n",
    "def countdown(i):\n",
    "    \n",
    "    print(i)\n",
    "    \n",
    "    if i <= 1: # Базовый случай\n",
    "        return\n",
    "    else: # Рекурсивный случай\n",
    "        countdown(i-1)\n",
    "        \n",
    "countdown (10)"
   ]
  },
  {
   "cell_type": "code",
   "execution_count": 4,
   "metadata": {},
   "outputs": [
    {
     "data": {
      "text/plain": [
       "6"
      ]
     },
     "execution_count": 4,
     "metadata": {},
     "output_type": "execute_result"
    }
   ],
   "source": [
    "# Рекурсивная функция вычисления факториала\n",
    "\n",
    "def fact(x):\n",
    "    if x == 1:\n",
    "        return 1\n",
    "    else:\n",
    "        return x * fact(x-1)\n",
    "    \n",
    "fact(3)"
   ]
  },
  {
   "cell_type": "markdown",
   "metadata": {},
   "source": [
    "##### Быстрая сортировка\n",
    "\n",
    "Принцип \"Разделяй и властвуй\""
   ]
  },
  {
   "cell_type": "code",
   "execution_count": 36,
   "metadata": {},
   "outputs": [
    {
     "data": {
      "text/plain": [
       "10"
      ]
     },
     "execution_count": 36,
     "metadata": {},
     "output_type": "execute_result"
    }
   ],
   "source": [
    "# Код рекурсивной функции\n",
    "\n",
    "def sum_(arr):\n",
    "    if arr == []:\n",
    "        return 0\n",
    "    return arr[0] + sum_(arr[1:])\n",
    "\n",
    "sum_([1,2,3,4])"
   ]
  },
  {
   "cell_type": "code",
   "execution_count": 38,
   "metadata": {},
   "outputs": [
    {
     "data": {
      "text/plain": [
       "4"
      ]
     },
     "execution_count": 38,
     "metadata": {},
     "output_type": "execute_result"
    }
   ],
   "source": [
    "# Рекурсивная функция подсчета элементов\n",
    "\n",
    "def count_(arr):\n",
    "    if arr == []:\n",
    "        return 0\n",
    "    else:\n",
    "        return 1 + count_(arr[1:])\n",
    "\n",
    "count_([1,2,3,4])"
   ]
  },
  {
   "cell_type": "code",
   "execution_count": 67,
   "metadata": {},
   "outputs": [
    {
     "data": {
      "text/plain": [
       "8"
      ]
     },
     "execution_count": 67,
     "metadata": {},
     "output_type": "execute_result"
    }
   ],
   "source": [
    "# Наибольшее число в списке\n",
    "\n",
    "def max_(arr):\n",
    "    if len(arr) == 2:\n",
    "        return arr[0] if arr[0] > arr[1] else arr[1]\n",
    "    \n",
    "    sub_max = max_(arr[1:])\n",
    "    return arr[0] if arr[0] > sub_max else sub_max\n",
    "\n",
    "'''\n",
    "def max_(list):\n",
    "    if len(list) == 2:\n",
    "        return list[0] if list[0] > list[1] else list[1]\n",
    "    sub_max = max_(list[1:])\n",
    "    return list[0] if list[0] > sub_max else sub_max\n",
    "'''\n",
    "'''\n",
    "def max_(lst):\n",
    "    if len(lst) == 0:\n",
    "        return None\n",
    "    if len(lst) == 1:\n",
    "        return lst[0]\n",
    "    else:\n",
    "        sub_max = max_(lst[1:])\n",
    "        return lst[0] if lst[0] > sub_max else sub_max\n",
    "'''\n",
    "            \n",
    "max_([1,6,8,2,7])"
   ]
  },
  {
   "cell_type": "code",
   "execution_count": 73,
   "metadata": {},
   "outputs": [
    {
     "data": {
      "text/plain": [
       "[2, 3, 5, 10]"
      ]
     },
     "execution_count": 73,
     "metadata": {},
     "output_type": "execute_result"
    }
   ],
   "source": [
    "# Код быстрой сортировки\n",
    "\n",
    "def quicksort(arr):\n",
    "    if len(arr) < 2:\n",
    "        return arr\n",
    "    else:\n",
    "        pivot = arr[0]\n",
    "        less = [i for i in arr[1:] if i b<= pivot]\n",
    "        \n",
    "        greater = [i for i in arr[1:] if i > pivot]\n",
    "        \n",
    "        return quicksort(less) + [pivot] + quicksort(greater)\n",
    "\n",
    "quicksort([10,5,2,3])"
   ]
  },
  {
   "cell_type": "markdown",
   "metadata": {},
   "source": [
    "O(n)\n",
    "\n",
    "O(n)\n",
    "\n",
    "O(1)\n",
    "\n",
    "O(n2)\n"
   ]
  },
  {
   "cell_type": "markdown",
   "metadata": {},
   "source": [
    "##### Хэш-таблицы"
   ]
  },
  {
   "cell_type": "code",
   "execution_count": 75,
   "metadata": {},
   "outputs": [
    {
     "name": "stdout",
     "output_type": "stream",
     "text": [
      "{'apple': 0.67, 'milk': 1.49, 'avocado': 1.49}\n"
     ]
    }
   ],
   "source": [
    "book = dict()\n",
    "book[\"apple\"] = 0.67\n",
    "book[\"milk\"] = 1.49\n",
    "book[\"avocado\"] = 1.49\n",
    "\n",
    "print(book)"
   ]
  },
  {
   "cell_type": "code",
   "execution_count": 76,
   "metadata": {},
   "outputs": [
    {
     "name": "stdout",
     "output_type": "stream",
     "text": [
      "1.49\n"
     ]
    }
   ],
   "source": [
    "print(book[\"avocado\"])"
   ]
  },
  {
   "cell_type": "code",
   "execution_count": 87,
   "metadata": {},
   "outputs": [],
   "source": [
    "voted = {}\n",
    "\n",
    "def check_voter(name):\n",
    "    if voted.get(name):\n",
    "        print('Kick them out!')\n",
    "    else:\n",
    "        voted[name] = True\n",
    "        print('Let them vote')"
   ]
  },
  {
   "cell_type": "code",
   "execution_count": 88,
   "metadata": {},
   "outputs": [
    {
     "name": "stdout",
     "output_type": "stream",
     "text": [
      "Let them vote\n"
     ]
    }
   ],
   "source": [
    "check_voter('tom')"
   ]
  },
  {
   "cell_type": "code",
   "execution_count": 90,
   "metadata": {},
   "outputs": [
    {
     "name": "stdout",
     "output_type": "stream",
     "text": [
      "Kick them out!\n"
     ]
    }
   ],
   "source": [
    "check_voter('mike')"
   ]
  },
  {
   "cell_type": "markdown",
   "metadata": {},
   "source": [
    "###### Коллизии"
   ]
  }
 ],
 "metadata": {
  "kernelspec": {
   "display_name": "Python 3",
   "language": "python",
   "name": "python3"
  },
  "language_info": {
   "codemirror_mode": {
    "name": "ipython",
    "version": 3
   },
   "file_extension": ".py",
   "mimetype": "text/x-python",
   "name": "python",
   "nbconvert_exporter": "python",
   "pygments_lexer": "ipython3",
   "version": "3.7.3"
  }
 },
 "nbformat": 4,
 "nbformat_minor": 2
}
