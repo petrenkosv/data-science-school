{
 "cells": [
  {
   "cell_type": "markdown",
   "metadata": {},
   "source": [
    "#### Грокаем Алгоритмы\n",
    "\n",
    "Книга"
   ]
  },
  {
   "cell_type": "markdown",
   "metadata": {},
   "source": [
    "##### Знакомство с алгоритмами"
   ]
  },
  {
   "cell_type": "code",
   "execution_count": 4,
   "metadata": {
    "hide_input": false
   },
   "outputs": [
    {
     "name": "stdout",
     "output_type": "stream",
     "text": [
      "1\n",
      "None\n"
     ]
    }
   ],
   "source": [
    "# Бинарный поиск\n",
    "\n",
    "# Создадим функцию бинарного поиска\n",
    "def binary_search(list, item):\n",
    "    low = 0\n",
    "    high = len(list) - 1\n",
    "    \n",
    "    while low <=high:\n",
    "        mid = (low + high)//2\n",
    "        guess = list[mid]\n",
    "        \n",
    "        if guess == item:\n",
    "            return mid\n",
    "        \n",
    "        elif guess > item:\n",
    "            high = mid -1\n",
    "        \n",
    "        else:\n",
    "            low = mid + 1\n",
    "    return None\n",
    "\n",
    "my_list = [1, 3, 5, 7, 9]\n",
    "\n",
    "print(binary_search(my_list, 3))\n",
    "print(binary_search(my_list, -1))"
   ]
  },
  {
   "cell_type": "markdown",
   "metadata": {},
   "source": [
    "##### Упражнения\n",
    "\n",
    "* 1.1: 7\n",
    "* 1.2: 8"
   ]
  },
  {
   "cell_type": "code",
   "execution_count": 34,
   "metadata": {},
   "outputs": [
    {
     "name": "stdout",
     "output_type": "stream",
     "text": [
      "При линейном поиске, время нахождения одного элемента составит до 1000000000 мс или 1000000 секунд.\n",
      "При бинарном поиске, время нахождения одного элемента составит до 30 мс или 0 секунд.\n",
      "Бинарный поиск быстрее линейного примерно в 33 млн. раз.\n"
     ]
    }
   ],
   "source": [
    "import numpy\n",
    "\n",
    "num = 10**9 # Number of elements in list.\n",
    "\n",
    "ls = int(num) # Linear Search: number of tries.\n",
    "\n",
    "bs = int(round(numpy.log2(ls))) # Binary Search: number of tries.\n",
    "\n",
    "print(f\"При линейном поиске, время нахождения одного элемента составит до {ls} мс или {int(ls/1000)} секунд.\")\n",
    "print(f\"При бинарном поиске, время нахождения одного элемента составит до {bs} мс или {int(bs/1000)} секунд.\")\n",
    "print(f\"Бинарный поиск быстрее линейного примерно в {int(round(ls/bs)/(10**6))} млн. раз.\")\n"
   ]
  },
  {
   "cell_type": "markdown",
   "metadata": {},
   "source": [
    "##### Сортировка выбором"
   ]
  },
  {
   "cell_type": "code",
   "execution_count": 33,
   "metadata": {},
   "outputs": [
    {
     "name": "stdout",
     "output_type": "stream",
     "text": [
      "[5, 3, 6, 2, 10]\n",
      "[5, 3, 6, 10]\n",
      "[5, 6, 10]\n",
      "[6, 10]\n",
      "[10]\n",
      "[2, 3, 5, 6, 10]\n"
     ]
    }
   ],
   "source": [
    "def findSmallest(arr):\n",
    "    smallest = arr[0]\n",
    "    smallest_index = 0\n",
    "    \n",
    "    for i in range(1, len(arr)):\n",
    "        if arr[i] < smallest:\n",
    "            smallest = arr[i]\n",
    "            smallest_index = i\n",
    "            \n",
    "    return smallest_index\n",
    "\n",
    "def selectionSort(arr):\n",
    "    newArr = []\n",
    "    for i in range(len(arr)):\n",
    "        print(arr)\n",
    "        smallest = findSmallest(arr)\n",
    "        newArr.append(arr.pop(smallest)) # pop() return value and remove it from the list\n",
    "    return newArr\n",
    "\n",
    "print(selectionSort([5,3,6,2,10]))"
   ]
  },
  {
   "cell_type": "markdown",
   "metadata": {},
   "source": [
    "##### Рекурсия"
   ]
  },
  {
   "cell_type": "code",
   "execution_count": null,
   "metadata": {},
   "outputs": [],
   "source": []
  }
 ],
 "metadata": {
  "kernelspec": {
   "display_name": "Python 3",
   "language": "python",
   "name": "python3"
  },
  "language_info": {
   "codemirror_mode": {
    "name": "ipython",
    "version": 3
   },
   "file_extension": ".py",
   "mimetype": "text/x-python",
   "name": "python",
   "nbconvert_exporter": "python",
   "pygments_lexer": "ipython3",
   "version": "3.7.3"
  }
 },
 "nbformat": 4,
 "nbformat_minor": 2
}
