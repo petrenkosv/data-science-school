{
 "cells": [
  {
   "cell_type": "markdown",
   "metadata": {},
   "source": [
    "## [Программирование на языке Python для сбора и анализа данных](http://math-info.hse.ru/2015-16/%D0%9F%D1%80%D0%BE%D0%B3%D1%80%D0%B0%D0%BC%D0%BC%D0%B8%D1%80%D0%BE%D0%B2%D0%B0%D0%BD%D0%B8%D0%B5_%D0%BD%D0%B0_%D1%8F%D0%B7%D1%8B%D0%BA%D0%B5_Python_%D0%B4%D0%BB%D1%8F_%D1%81%D0%B1%D0%BE%D1%80%D0%B0_%D0%B8_%D0%B0%D0%BD%D0%B0%D0%BB%D0%B8%D0%B7%D0%B0_%D0%B4%D0%B0%D0%BD%D0%BD%D1%8B%D1%85)"
   ]
  },
  {
   "cell_type": "markdown",
   "metadata": {},
   "source": [
    "### [Лекция 8. Извлечение данных из веб-страниц](https://www.youtube.com/watch?v=3nPksaHTMGI)"
   ]
  },
  {
   "cell_type": "code",
   "execution_count": 3,
   "metadata": {},
   "outputs": [
    {
     "name": "stderr",
     "output_type": "stream",
     "text": [
      "'ls' is not recognized as an internal or external command,\n",
      "operable program or batch file.\n"
     ]
    }
   ],
   "source": [
    "# open(\"test.py\").read() - файл не существует"
   ]
  },
  {
   "cell_type": "code",
   "execution_count": null,
   "metadata": {},
   "outputs": [],
   "source": [
    "'''\n",
    "wrint open(test.py) as f:\n",
    "    print(f.read())\n",
    "    f.seek(0)\n",
    "'''"
   ]
  },
  {
   "cell_type": "code",
   "execution_count": null,
   "metadata": {},
   "outputs": [],
   "source": [
    "# Работа с модулем Request"
   ]
  },
  {
   "cell_type": "code",
   "execution_count": 5,
   "metadata": {},
   "outputs": [],
   "source": [
    "import requests as req"
   ]
  },
  {
   "cell_type": "code",
   "execution_count": 22,
   "metadata": {},
   "outputs": [],
   "source": [
    "r = req.get(\"http://schurov.com/test.html\")"
   ]
  },
  {
   "cell_type": "code",
   "execution_count": 23,
   "metadata": {},
   "outputs": [
    {
     "data": {
      "text/plain": [
       "True"
      ]
     },
     "execution_count": 23,
     "metadata": {},
     "output_type": "execute_result"
    }
   ],
   "source": [
    "r.ok"
   ]
  },
  {
   "cell_type": "code",
   "execution_count": 26,
   "metadata": {},
   "outputs": [
    {
     "data": {
      "text/plain": [
       "'http://schurov.com/test.html'"
      ]
     },
     "execution_count": 26,
     "metadata": {},
     "output_type": "execute_result"
    }
   ],
   "source": [
    "r.url"
   ]
  },
  {
   "cell_type": "code",
   "execution_count": null,
   "metadata": {},
   "outputs": [],
   "source": [
    "# Работа с BeautifulSoup"
   ]
  },
  {
   "cell_type": "code",
   "execution_count": 28,
   "metadata": {},
   "outputs": [],
   "source": [
    "from bs4 import BeautifulSoup"
   ]
  },
  {
   "cell_type": "code",
   "execution_count": 29,
   "metadata": {},
   "outputs": [],
   "source": [
    "page = BeautifulSoup(r.text)"
   ]
  },
  {
   "cell_type": "code",
   "execution_count": 31,
   "metadata": {},
   "outputs": [
    {
     "name": "stdout",
     "output_type": "stream",
     "text": [
      "<html>\n",
      " <head>\n",
      "  <title>\n",
      "   ÐÑÐ¾Ð²ÐµÑÐºÐ°\n",
      "  </title>\n",
      "  <!-- CSS file -->\n",
      "  <link href=\"https://cdn.jsdelivr.net/qtip2/2.2.1/jquery.qtip.min.css\" rel=\"stylesheet\" type=\"text/css\"/>\n",
      " </head>\n",
      " <body>\n",
      "  <p>\n",
      "   This is a test: $\\int x^2+y^2$ \\(\\int x^2+y^2\\) \n",
      "    \\[\n",
      "    \\int x^2+y^2\n",
      "    \\]\n",
      "  </p>\n",
      "  <a>\n",
      "   Hello\n",
      "  </a>\n",
      "  <a data-url=\"http://schurov.com/include.html\">\n",
      "   World\n",
      "  </a>\n",
      "  <!-- jQuery FIRST i.e. before qTip (and all other scripts too usually) -->\n",
      "  <script src=\"https://code.jquery.com/jquery-1.12.0.min.js\">\n",
      "  </script>\n",
      "  <!-- Include either the minifed or production version, NOT both!! -->\n",
      "  <script src=\"https://cdn.jsdelivr.net/qtip2/2.2.1/jquery.qtip.min.js\" type=\"text/javascript\">\n",
      "  </script>\n",
      "  <script src=\"https://cdn.mathjax.org/mathjax/latest/MathJax.js?config=TeX-AMS-MML_HTMLorMML\">\n",
      "  </script>\n",
      "  <!-- Optional: imagesLoaded script to better support images inside your tooltips -->\n",
      "  <script src=\"https://npmcdn.com/imagesloaded@4.1/imagesloaded.pkgd.min.js\">\n",
      "  </script>\n",
      "  <script type=\"text/javascript\">\n",
      "   $('[data-url]').qtip({\n",
      "    content: {\n",
      "        text: function(event, api) {\n",
      "            $.ajax({\n",
      "                url: api.elements.target.attr('data-url') // Use data-url attribute for the URL\n",
      "            })\n",
      "            .then(function(content) {\n",
      "                // Set the tooltip content upon successful retrieval\n",
      "                api.set('content.text', content);\n",
      "\n",
      "                // Update math\n",
      "                MathJax.Hub.Queue([\"Typeset\",MathJax.Hub]);\n",
      "            }, function(xhr, status, error) {\n",
      "                // Upon failure... set the tooltip content to the status and error value\n",
      "                api.set('content.text', status + ': ' + error);\n",
      "            });\n",
      "\n",
      "            return 'Loading...'; // Set some initial text\n",
      "        }\n",
      "    }\n",
      "});\n",
      "  </script>\n",
      " </body>\n",
      "</html>\n",
      "\n"
     ]
    }
   ],
   "source": [
    "print(page.prettify())"
   ]
  },
  {
   "cell_type": "code",
   "execution_count": 39,
   "metadata": {},
   "outputs": [
    {
     "name": "stdout",
     "output_type": "stream",
     "text": [
      "This is a test: $\\int x^2+y^2$ \\(\\int x^2+y^2\\) \n",
      "    \\[\n",
      "    \\int x^2+y^2\n",
      "    \\]\n"
     ]
    }
   ],
   "source": [
    "print(page.html.body.p.string.strip())"
   ]
  },
  {
   "cell_type": "code",
   "execution_count": null,
   "metadata": {},
   "outputs": [],
   "source": [
    "# Собераем ссылки со страницы"
   ]
  },
  {
   "cell_type": "code",
   "execution_count": 43,
   "metadata": {},
   "outputs": [],
   "source": [
    "r = req.get(\"http://vyshka.math.ru/\")\n",
    "\n",
    "page = BeautifulSoup(r.text)"
   ]
  },
  {
   "cell_type": "code",
   "execution_count": 46,
   "metadata": {},
   "outputs": [
    {
     "name": "stdout",
     "output_type": "stream",
     "text": [
      "http://top100.rambler.ru/top100/\n",
      "http://math.hse.ru/\n",
      "http://hse.ru\n",
      "http://math.hse.ru/\n",
      "0809/0809.html\n",
      "0910/0910.html\n",
      "1011/1011.html\n",
      "1112/1112.html\n",
      "1213/1213.php\n",
      "1314/1314.php\n",
      "1415/1415.php\n",
      "1516/1516.php\n",
      "1617/1617.php\n"
     ]
    }
   ],
   "source": [
    "for link in page(\"a\"):\n",
    "    print(link['href'])"
   ]
  },
  {
   "cell_type": "code",
   "execution_count": null,
   "metadata": {},
   "outputs": [],
   "source": [
    "# Конец лекции"
   ]
  }
 ],
 "metadata": {
  "kernelspec": {
   "display_name": "Python 3",
   "language": "python",
   "name": "python3"
  },
  "language_info": {
   "codemirror_mode": {
    "name": "ipython",
    "version": 3
   },
   "file_extension": ".py",
   "mimetype": "text/x-python",
   "name": "python",
   "nbconvert_exporter": "python",
   "pygments_lexer": "ipython3",
   "version": "3.7.3"
  }
 },
 "nbformat": 4,
 "nbformat_minor": 2
}
