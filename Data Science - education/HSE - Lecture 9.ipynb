{
 "cells": [
  {
   "cell_type": "markdown",
   "metadata": {},
   "source": [
    "### [Работа с открытыми API с помощью XML](https://www.youtube.com/watch?v=5aelkl2HAow&list=PLOvQpSwLKxZ8GtJcam8rkBooy7i3ljAxd)"
   ]
  },
  {
   "cell_type": "code",
   "execution_count": 1,
   "metadata": {},
   "outputs": [],
   "source": [
    "# https://en.wikipedia.org/w/api.php?action=query&list=categorymembers&cmtitle=Category:Physics&cmsort=timestamp&cmdir=desc&format=xml"
   ]
  },
  {
   "cell_type": "code",
   "execution_count": 34,
   "metadata": {},
   "outputs": [],
   "source": [
    "import requests\n",
    "\n",
    "from bs4 import BeautifulSoup\n",
    "\n",
    "url = \"https://en.wikipedia.org/w/api.php\"\n",
    "params = {\n",
    "    'action': 'query',\n",
    "    'list': 'categorymembers',\n",
    "    'cmtitle': 'Category:Physics',\n",
    "    'cmsort': 'timestamp',\n",
    "    'cmdir': 'desc',\n",
    "    'format': 'xml'\n",
    "}\n",
    "\n",
    "g = requests.get(url, params=params)"
   ]
  },
  {
   "cell_type": "code",
   "execution_count": 35,
   "metadata": {},
   "outputs": [],
   "source": [
    "data = BeautifulSoup(g.text, features='xml')"
   ]
  },
  {
   "cell_type": "code",
   "execution_count": 36,
   "metadata": {},
   "outputs": [
    {
     "name": "stdout",
     "output_type": "stream",
     "text": [
      "<?xml version=\"1.0\" encoding=\"utf-8\"?>\n",
      "<api batchcomplete=\"\">\n",
      " <continue cmcontinue=\"2020-01-21 01:39:39|43239622\" continue=\"-||\"/>\n",
      " <query>\n",
      "  <categorymembers>\n",
      "   <cm ns=\"0\" pageid=\"54738\" title=\"Interpretations of quantum mechanics\"/>\n",
      "   <cm ns=\"2\" pageid=\"62919338\" title=\"User:Saramitchell513/sandbox\"/>\n",
      "   <cm ns=\"0\" pageid=\"63572008\" title=\"Thermodynamics and an Introduction to Thermostatistics\"/>\n",
      "   <cm ns=\"0\" pageid=\"24012524\" title=\"Kopp-Etchells effect\"/>\n",
      "   <cm ns=\"0\" pageid=\"5816420\" title=\"Center of curvature\"/>\n",
      "   <cm ns=\"0\" pageid=\"25909457\" title=\"Fixed-field alternating gradient accelerator\"/>\n",
      "   <cm ns=\"0\" pageid=\"63555971\" title=\"International Association of Seismology and Physics of the Earth’s Interior\"/>\n",
      "   <cm ns=\"0\" pageid=\"14539370\" title=\"Segregation (materials science)\"/>\n",
      "   <cm ns=\"14\" pageid=\"53926012\" title=\"Category:Physics controversies\"/>\n",
      "   <cm ns=\"0\" pageid=\"63107907\" title=\"Unification (physics)\"/>\n",
      "  </categorymembers>\n",
      " </query>\n",
      "</api>\n"
     ]
    }
   ],
   "source": [
    "print(data.prettify())"
   ]
  },
  {
   "cell_type": "code",
   "execution_count": 43,
   "metadata": {},
   "outputs": [
    {
     "name": "stdout",
     "output_type": "stream",
     "text": [
      "Interpretations of quantum mechanics\n",
      "User:Saramitchell513/sandbox\n",
      "Thermodynamics and an Introduction to Thermostatistics\n",
      "Kopp-Etchells effect\n",
      "Center of curvature\n",
      "Fixed-field alternating gradient accelerator\n",
      "International Association of Seismology and Physics of the Earth’s Interior\n",
      "Segregation (materials science)\n",
      "Category:Physics controversies\n",
      "Unification (physics)\n"
     ]
    }
   ],
   "source": [
    "# Печать заголовков\n",
    "\n",
    "for cm in data.api.query.categorymembers(\"cm\"):\n",
    "    print(cm['title'])"
   ]
  },
  {
   "cell_type": "code",
   "execution_count": 44,
   "metadata": {},
   "outputs": [
    {
     "data": {
      "text/plain": [
       "'2020-01-21 01:39:39|43239622'"
      ]
     },
     "execution_count": 44,
     "metadata": {},
     "output_type": "execute_result"
    }
   ],
   "source": [
    " # как перелистывать листы в API\n",
    "\n",
    "data.api(\"continue\")[0]['cmcontinue']"
   ]
  },
  {
   "cell_type": "code",
   "execution_count": 45,
   "metadata": {},
   "outputs": [],
   "source": [
    "params['cmcontinue'] = data.api(\"continue\")[0]['cmcontinue']"
   ]
  },
  {
   "cell_type": "code",
   "execution_count": 49,
   "metadata": {},
   "outputs": [
    {
     "ename": "AttributeError",
     "evalue": "module 'requests' has no attribute 'ger'",
     "output_type": "error",
     "traceback": [
      "\u001b[1;31m---------------------------------------------------------------------------\u001b[0m",
      "\u001b[1;31mAttributeError\u001b[0m                            Traceback (most recent call last)",
      "\u001b[1;32m<ipython-input-49-388b6d73589b>\u001b[0m in \u001b[0;36m<module>\u001b[1;34m\u001b[0m\n\u001b[1;32m----> 1\u001b[1;33m \u001b[0mg\u001b[0m \u001b[1;33m=\u001b[0m \u001b[0mrequests\u001b[0m\u001b[1;33m.\u001b[0m\u001b[0mger\u001b[0m\u001b[1;33m(\u001b[0m\u001b[0murl\u001b[0m\u001b[1;33m,\u001b[0m \u001b[0mparams\u001b[0m\u001b[1;33m=\u001b[0m\u001b[0mparams\u001b[0m\u001b[1;33m)\u001b[0m\u001b[1;33m,\u001b[0m\u001b[1;33m\u001b[0m\u001b[1;33m\u001b[0m\u001b[0m\n\u001b[0m\u001b[0;32m      2\u001b[0m \u001b[0mdata\u001b[0m \u001b[1;33m=\u001b[0m \u001b[0mBeatifulSoup\u001b[0m\u001b[1;33m(\u001b[0m\u001b[0mg\u001b[0m\u001b[1;33m.\u001b[0m\u001b[0mtext\u001b[0m\u001b[1;33m,\u001b[0m \u001b[0mfeatures\u001b[0m \u001b[1;33m=\u001b[0m \u001b[0mxml\u001b[0m\u001b[1;33m)\u001b[0m\u001b[1;33m\u001b[0m\u001b[1;33m\u001b[0m\u001b[0m\n\u001b[0;32m      3\u001b[0m \u001b[1;33m\u001b[0m\u001b[0m\n\u001b[0;32m      4\u001b[0m \u001b[1;32mfor\u001b[0m \u001b[0mcm\u001b[0m \u001b[1;32min\u001b[0m \u001b[0mdata\u001b[0m\u001b[1;33m.\u001b[0m\u001b[0mapi\u001b[0m\u001b[1;33m.\u001b[0m\u001b[0mquery\u001b[0m\u001b[1;33m.\u001b[0m\u001b[0mcategоrymembers\u001b[0m\u001b[1;33m:\u001b[0m\u001b[1;33m\u001b[0m\u001b[1;33m\u001b[0m\u001b[0m\n\u001b[0;32m      5\u001b[0m     \u001b[0mprint\u001b[0m\u001b[1;33m(\u001b[0m\u001b[0mcm\u001b[0m\u001b[1;33m[\u001b[0m\u001b[1;34m'title'\u001b[0m\u001b[1;33m]\u001b[0m\u001b[1;33m)\u001b[0m\u001b[1;33m\u001b[0m\u001b[1;33m\u001b[0m\u001b[0m\n",
      "\u001b[1;31mAttributeError\u001b[0m: module 'requests' has no attribute 'ger'"
     ]
    }
   ],
   "source": [
    "g = requests.ger(url, params=params),\n",
    "data = BeatifulSoup(g.text, features = xml)\n",
    "\n",
    "for cm in data.api.query.categоrymembers:\n",
    "    print(cm['title'])"
   ]
  },
  {
   "cell_type": "code",
   "execution_count": null,
   "metadata": {},
   "outputs": [],
   "source": []
  }
 ],
 "metadata": {
  "kernelspec": {
   "display_name": "Python 3",
   "language": "python",
   "name": "python3"
  },
  "language_info": {
   "codemirror_mode": {
    "name": "ipython",
    "version": 3
   },
   "file_extension": ".py",
   "mimetype": "text/x-python",
   "name": "python",
   "nbconvert_exporter": "python",
   "pygments_lexer": "ipython3",
   "version": "3.7.3"
  }
 },
 "nbformat": 4,
 "nbformat_minor": 2
}
